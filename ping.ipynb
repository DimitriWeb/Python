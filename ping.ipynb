{
 "cells": [
  {
   "cell_type": "markdown",
   "metadata": {},
   "source": [
    "## Creation de la série des noms de dominante"
   ]
  },
  {
   "cell_type": "code",
   "execution_count": 2,
   "metadata": {
    "collapsed": false
   },
   "outputs": [],
   "source": [
    "import pandas as pd\n",
    "dominantes= {'ASR':'Architecture et sécurité des réseaux',\n",
    "             'BDTN':'Big Data pour la transformation du numérique',\n",
    "             'IA-IR':\"Ingénieur d'affaire : informatique et réseaux\",\n",
    "             'ICOM':\"Ingénieur télécoms\"}\n",
    "dominantesSerie = pd.Series(dominantes)"
   ]
  },
  {
   "cell_type": "code",
   "execution_count": 3,
   "metadata": {
    "collapsed": false
   },
   "outputs": [
    {
     "data": {
      "text/plain": [
       "Index(['ASR', 'BDTN', 'IA-IR', 'ICOM'], dtype='object')"
      ]
     },
     "execution_count": 3,
     "metadata": {},
     "output_type": "execute_result"
    }
   ],
   "source": [
    "dominantesSerie.index\n",
    "\n"
   ]
  },
  {
   "cell_type": "code",
   "execution_count": 4,
   "metadata": {
    "collapsed": false
   },
   "outputs": [
    {
     "data": {
      "text/plain": [
       "ASR               Architecture et sécurité des réseaux\n",
       "BDTN      Big Data pour la transformation du numérique\n",
       "IA-IR    Ingénieur d'affaire : informatique et réseaux\n",
       "ICOM                                Ingénieur télécoms\n",
       "dtype: object"
      ]
     },
     "execution_count": 4,
     "metadata": {},
     "output_type": "execute_result"
    }
   ],
   "source": [
    "dominantesSerie"
   ]
  },
  {
   "cell_type": "markdown",
   "metadata": {},
   "source": [
    "## Creation de la série contenant les départements "
   ]
  },
  {
   "cell_type": "code",
   "execution_count": 5,
   "metadata": {
    "collapsed": false
   },
   "outputs": [],
   "source": [
    "departements = {'ASR':\"Technologies de l'information et de la communication\",\n",
    "                'BDTN':\"Technologies de l'information et de la communication\",\n",
    "                'IA-IR':\"Technologies de l'information et de la communication\",\n",
    "                'ICOM':\"Electronique et telecommunication\"}\n",
    "\n",
    "departementsSerie=pd.Series(departements, index=dominantesSerie.index)\n"
   ]
  },
  {
   "cell_type": "markdown",
   "metadata": {},
   "source": [
    "## Création du dataframe liant dominantes et départements"
   ]
  },
  {
   "cell_type": "code",
   "execution_count": 6,
   "metadata": {
    "collapsed": false
   },
   "outputs": [
    {
     "data": {
      "text/html": [
       "<div>\n",
       "<table border=\"1\" class=\"dataframe\">\n",
       "  <thead>\n",
       "    <tr style=\"text-align: right;\">\n",
       "      <th></th>\n",
       "      <th>Dominante</th>\n",
       "      <th>Departement</th>\n",
       "    </tr>\n",
       "  </thead>\n",
       "  <tbody>\n",
       "    <tr>\n",
       "      <th>ASR</th>\n",
       "      <td>Architecture et sécurité des réseaux</td>\n",
       "      <td>Technologies de l'information et de la communi...</td>\n",
       "    </tr>\n",
       "    <tr>\n",
       "      <th>BDTN</th>\n",
       "      <td>Big Data pour la transformation du numérique</td>\n",
       "      <td>Technologies de l'information et de la communi...</td>\n",
       "    </tr>\n",
       "    <tr>\n",
       "      <th>IA-IR</th>\n",
       "      <td>Ingénieur d'affaire : informatique et réseaux</td>\n",
       "      <td>Technologies de l'information et de la communi...</td>\n",
       "    </tr>\n",
       "    <tr>\n",
       "      <th>ICOM</th>\n",
       "      <td>Ingénieur télécoms</td>\n",
       "      <td>Electronique et telecommunication</td>\n",
       "    </tr>\n",
       "  </tbody>\n",
       "</table>\n",
       "</div>"
      ],
      "text/plain": [
       "                                           Dominante  \\\n",
       "ASR             Architecture et sécurité des réseaux   \n",
       "BDTN    Big Data pour la transformation du numérique   \n",
       "IA-IR  Ingénieur d'affaire : informatique et réseaux   \n",
       "ICOM                              Ingénieur télécoms   \n",
       "\n",
       "                                             Departement  \n",
       "ASR    Technologies de l'information et de la communi...  \n",
       "BDTN   Technologies de l'information et de la communi...  \n",
       "IA-IR  Technologies de l'information et de la communi...  \n",
       "ICOM                   Electronique et telecommunication  "
      ]
     },
     "execution_count": 6,
     "metadata": {},
     "output_type": "execute_result"
    }
   ],
   "source": [
    "domdepdf = pd.DataFrame(dominantesSerie,columns=[\"Dominante\"])\n",
    "domdepdf[\"Departement\"]=departementsSerie\n",
    "domdepdf"
   ]
  },
  {
   "cell_type": "code",
   "execution_count": 7,
   "metadata": {
    "collapsed": false
   },
   "outputs": [
    {
     "data": {
      "text/plain": [
       "<pandas.core.indexing._iLocIndexer at 0x261da8f97f0>"
      ]
     },
     "execution_count": 7,
     "metadata": {},
     "output_type": "execute_result"
    }
   ],
   "source": [
    "domdepdf.iloc([1,2])"
   ]
  },
  {
   "cell_type": "markdown",
   "metadata": {},
   "source": [
    "## Création du dataframe des élèves"
   ]
  },
  {
   "cell_type": "code",
   "execution_count": 8,
   "metadata": {
    "collapsed": false
   },
   "outputs": [
    {
     "data": {
      "text/html": [
       "<div>\n",
       "<table border=\"1\" class=\"dataframe\">\n",
       "  <thead>\n",
       "    <tr style=\"text-align: right;\">\n",
       "      <th></th>\n",
       "      <th>Dominante</th>\n",
       "      <th>Nom</th>\n",
       "      <th>Prenom</th>\n",
       "    </tr>\n",
       "  </thead>\n",
       "  <tbody>\n",
       "    <tr>\n",
       "      <th>Eleve1</th>\n",
       "      <td>IA-IR</td>\n",
       "      <td>Vollmar</td>\n",
       "      <td>Lucas</td>\n",
       "    </tr>\n",
       "    <tr>\n",
       "      <th>Eleve2</th>\n",
       "      <td>BDTN</td>\n",
       "      <td>Saint-Pierre</td>\n",
       "      <td>Dimitri</td>\n",
       "    </tr>\n",
       "    <tr>\n",
       "      <th>Eleve3</th>\n",
       "      <td>ASR</td>\n",
       "      <td>Adjakpa</td>\n",
       "      <td>Cédric</td>\n",
       "    </tr>\n",
       "    <tr>\n",
       "      <th>Eleve4</th>\n",
       "      <td>ICOM</td>\n",
       "      <td>Mouthoud</td>\n",
       "      <td>Maud</td>\n",
       "    </tr>\n",
       "    <tr>\n",
       "      <th>Eleve5</th>\n",
       "      <td>ASR</td>\n",
       "      <td>Achiraf</td>\n",
       "      <td>Achif</td>\n",
       "    </tr>\n",
       "  </tbody>\n",
       "</table>\n",
       "</div>"
      ],
      "text/plain": [
       "       Dominante           Nom   Prenom\n",
       "Eleve1     IA-IR       Vollmar    Lucas\n",
       "Eleve2      BDTN  Saint-Pierre  Dimitri\n",
       "Eleve3       ASR       Adjakpa   Cédric\n",
       "Eleve4      ICOM      Mouthoud     Maud\n",
       "Eleve5       ASR       Achiraf    Achif"
      ]
     },
     "execution_count": 8,
     "metadata": {},
     "output_type": "execute_result"
    }
   ],
   "source": [
    "eleve1 = pd.Series({'Nom':'Vollmar','Prenom':'Lucas','Dominante':'IA-IR'})\n",
    "eleve2 = pd.Series({'Nom':'Saint-Pierre','Prenom':'Dimitri','Dominante':'BDTN'})\n",
    "eleve3 = pd.Series({'Nom':'Adjakpa','Prenom':'Cédric','Dominante':'ASR'})\n",
    "eleve4 = pd.Series({'Nom':'Mouthoud','Prenom':'Maud','Dominante':'ICOM'})\n",
    "eleve5 = pd.Series({'Nom':'Achiraf','Prenom':'Achif','Dominante':'ASR'})\n",
    "\n",
    "elevesdf = pd.DataFrame([eleve1,eleve2,eleve3,eleve4,eleve5],index=['Eleve1','Eleve2','Eleve3','Eleve4','Eleve5'])\n",
    "elevesdf"
   ]
  },
  {
   "cell_type": "markdown",
   "metadata": {},
   "source": [
    "## Création d'une série donnant les départements correspondants aux dominantes du dataframe"
   ]
  },
  {
   "cell_type": "code",
   "execution_count": 9,
   "metadata": {
    "collapsed": false
   },
   "outputs": [
    {
     "data": {
      "text/plain": [
       "Dominante\n",
       "IA-IR    Technologies de l'information et de la communi...\n",
       "BDTN     Technologies de l'information et de la communi...\n",
       "ASR      Technologies de l'information et de la communi...\n",
       "ICOM                     Electronique et telecommunication\n",
       "ASR      Technologies de l'information et de la communi...\n",
       "Name: Departement, dtype: object"
      ]
     },
     "execution_count": 9,
     "metadata": {},
     "output_type": "execute_result"
    }
   ],
   "source": [
    "corresponds = domdepdf.Departement[elevesdf.Dominante]\n",
    "corresponds"
   ]
  },
  {
   "cell_type": "markdown",
   "metadata": {},
   "source": [
    "## Calcul de la répartition des dominantes dans le PING"
   ]
  },
  {
   "cell_type": "code",
   "execution_count": 10,
   "metadata": {
    "collapsed": false
   },
   "outputs": [
    {
     "data": {
      "text/plain": [
       "Technologies de l'information et de la communication    80.0\n",
       "Electronique et telecommunication                       20.0\n",
       "Name: Departement, dtype: float64"
      ]
     },
     "execution_count": 10,
     "metadata": {},
     "output_type": "execute_result"
    }
   ],
   "source": [
    "percents = pd.value_counts(corresponds)/corresponds.count()*100\n",
    "percents"
   ]
  },
  {
   "cell_type": "markdown",
   "metadata": {},
   "source": [
    "## Sauvegarde du fichier sous format csv"
   ]
  },
  {
   "cell_type": "code",
   "execution_count": 11,
   "metadata": {
    "collapsed": false
   },
   "outputs": [],
   "source": [
    "percents.to_csv(\"percents.csv\",',')"
   ]
  },
  {
   "cell_type": "markdown",
   "metadata": {},
   "source": [
    "## Affichage graphique des pourcentages (histogramme)"
   ]
  },
  {
   "cell_type": "code",
   "execution_count": 28,
   "metadata": {
    "collapsed": false
   },
   "outputs": [
    {
     "data": {
      "image/png": "[encoded data removed]",
      "text/plain": [
       "<matplotlib.figure.Figure at 0x261dcb7ec88>"
      ]
     },
     "metadata": {},
     "output_type": "display_data"
    }
   ],
   "source": [
    "import numpy as np\n",
    "import matplotlib.pyplot as plt\n",
    "\n",
    "y_pos = np.arange(len(percents))\n",
    "\n",
    "plt.barh(y_pos, percents, align='center', alpha=0.4)\n",
    "plt.yticks(y_pos, percents.index)\n",
    "plt.xlabel('Pourcentage')\n",
    "plt.ylabel('Départements')\n",
    "plt.title(\"Pourcentage d'élève du PING pour chaque département\")\n",
    "\n",
    "plt.show()"
   ]
  },
  {
   "cell_type": "code",
   "execution_count": 29,
   "metadata": {
    "collapsed": false
   },
   "outputs": [
    {
     "data": {
      "image/png": "[encoded data removed]",
      "text/plain": [
       "<matplotlib.figure.Figure at 0x261dcb8e358>"
      ]
     },
     "metadata": {},
     "output_type": "display_data"
    }
   ],
   "source": [
    "import matplotlib.pyplot as plt\n",
    "plt.pie(percents,labels=percents.index, \n",
    "        autopct='%1.1f%%', shadow=True, startangle=90)\n",
    "plt.title(\"Pourcentage d'élève du PING pour chaque département\")\n",
    "plt.show()"
   ]
  },
  {
   "cell_type": "code",
   "execution_count": null,
   "metadata": {
    "collapsed": true
   },
   "outputs": [],
   "source": []
  }
 ],
 "metadata": {
  "anaconda-cloud": {},
  "kernelspec": {
   "display_name": "Python [conda root]",
   "language": "python",
   "name": "conda-root-py"
  },
  "language_info": {
   "codemirror_mode": {
    "name": "ipython",
    "version": 3
   },
   "file_extension": ".py",
   "mimetype": "text/x-python",
   "name": "python",
   "nbconvert_exporter": "python",
   "pygments_lexer": "ipython3",
   "version": "3.5.2"
  }
 },
 "nbformat": 4,
 "nbformat_minor": 1
}
