{
 "cells": [
  {
   "cell_type": "markdown",
   "metadata": {},
   "source": [
    "# Apprendre python en 10 minutes \n",
    "\n",
    "## Propriétés du langage\n",
    "Python est un langage : \n",
    "* fortement typé\n",
    "* dynamique \n",
    "* typé implicitement\n",
    "* sensible à la casse\n",
    "* orienté objet\n",
    "\n",
    "\n",
    "\n",
    "## Obtenir de l'aide \n",
    "Afin d'obtenir de l'aide sur un objet dans python, vous pouvez utiliser plusieurs commandes : \n",
    "* help(objet) pour savoir comment l'objet fonctionne\n",
    "* dir(objet) pour obtenir toutes les méthodes de cet objet\n",
    "* objet.\\__doc\\__  pour obtenir la chaîne description de l'objet\n",
    "\n",
    "#### Exemple :\n"
   ]
  },
  {
   "cell_type": "code",
   "execution_count": 1,
   "metadata": {
    "collapsed": false
   },
   "outputs": [
    {
     "name": "stdout",
     "output_type": "stream",
     "text": [
      "Help on built-in function abs in module builtins:\n",
      "\n",
      "abs(x, /)\n",
      "    Return the absolute value of the argument.\n",
      "\n"
     ]
    }
   ],
   "source": [
    "help(abs)\n",
    "\n",
    "\n"
   ]
  },
  {
   "cell_type": "code",
   "execution_count": 2,
   "metadata": {
    "collapsed": false
   },
   "outputs": [
    {
     "data": {
      "text/plain": [
       "['__call__',\n",
       " '__class__',\n",
       " '__delattr__',\n",
       " '__dir__',\n",
       " '__doc__',\n",
       " '__eq__',\n",
       " '__format__',\n",
       " '__ge__',\n",
       " '__getattribute__',\n",
       " '__gt__',\n",
       " '__hash__',\n",
       " '__init__',\n",
       " '__le__',\n",
       " '__lt__',\n",
       " '__module__',\n",
       " '__name__',\n",
       " '__ne__',\n",
       " '__new__',\n",
       " '__qualname__',\n",
       " '__reduce__',\n",
       " '__reduce_ex__',\n",
       " '__repr__',\n",
       " '__self__',\n",
       " '__setattr__',\n",
       " '__sizeof__',\n",
       " '__str__',\n",
       " '__subclasshook__',\n",
       " '__text_signature__']"
      ]
     },
     "execution_count": 2,
     "metadata": {},
     "output_type": "execute_result"
    }
   ],
   "source": [
    "dir(abs)"
   ]
  },
  {
   "cell_type": "code",
   "execution_count": 3,
   "metadata": {
    "collapsed": false
   },
   "outputs": [
    {
     "data": {
      "text/plain": [
       "'Return the absolute value of the argument.'"
      ]
     },
     "execution_count": 3,
     "metadata": {},
     "output_type": "execute_result"
    }
   ],
   "source": [
    "abs.__doc__"
   ]
  },
  {
   "cell_type": "markdown",
   "metadata": {},
   "source": [
    "## Syntaxe\n",
    "\n",
    "### Indentation\n",
    "Python ne dispose pas de caractère de fin de ligne obligatoire, les blocs sont définis par l'indentation du code.\n",
    "Les déclarations qui nécessitent d'être suivies par un niveau d'indentation finissent par \":\".\n",
    "\n",
    "### Commentaire\n",
    "Les commentaires peuvent s'écrire de deux façons :\n",
    "* les commentaires d'une ligne s'écrivent en les précédant du caractère dièze (#)\n",
    "* les commentaires multi-lignes s'écrivent entre \"\"\"\n",
    "\n",
    "#### Exemple :"
   ]
  },
  {
   "cell_type": "code",
   "execution_count": 4,
   "metadata": {
    "collapsed": false
   },
   "outputs": [
    {
     "data": {
      "text/plain": [
       "'Ceci est un commentaire sur plusieurs lignes.\\nCeci est très pratique'"
      ]
     },
     "execution_count": 4,
     "metadata": {},
     "output_type": "execute_result"
    }
   ],
   "source": [
    "#Ceci est un commentaire d'une ligne \n",
    "\n",
    "\"\"\"Ceci est un commentaire sur plusieurs lignes.\n",
    "Ceci est très pratique\"\"\""
   ]
  },
  {
   "cell_type": "markdown",
   "metadata": {},
   "source": [
    "### Le caractère \"=\"\n",
    "Les valeurs sont assignées avec le signe \"=\".\n",
    "\n",
    "L'égalité est testée avec le signe \"==\".\n",
    "\n",
    "Il est possible d'incrémenter une variable avec le signe \"+=\", la variable est incrémentée de la valeur suivant immédiatement à droite. \n",
    "\n",
    "Resectivement, il est possible de décrémenter une variable avec le signe \"-=\".\n",
    "\n",
    "On concatène deux chaînes avec le caractère \"+=\".\n",
    "#### Exemple : "
   ]
  },
  {
   "cell_type": "code",
   "execution_count": 5,
   "metadata": {
    "collapsed": false
   },
   "outputs": [
    {
     "data": {
      "text/plain": [
       "3"
      ]
     },
     "execution_count": 5,
     "metadata": {},
     "output_type": "execute_result"
    }
   ],
   "source": [
    "mavaleur=3\n",
    "mavaleur "
   ]
  },
  {
   "cell_type": "code",
   "execution_count": 6,
   "metadata": {
    "collapsed": false
   },
   "outputs": [
    {
     "data": {
      "text/plain": [
       "5"
      ]
     },
     "execution_count": 6,
     "metadata": {},
     "output_type": "execute_result"
    }
   ],
   "source": [
    "mavaleur+=2\n",
    "mavaleur"
   ]
  },
  {
   "cell_type": "code",
   "execution_count": 7,
   "metadata": {
    "collapsed": false
   },
   "outputs": [
    {
     "data": {
      "text/plain": [
       "4"
      ]
     },
     "execution_count": 7,
     "metadata": {},
     "output_type": "execute_result"
    }
   ],
   "source": [
    "mavaleur-=1\n",
    "mavaleur"
   ]
  },
  {
   "cell_type": "code",
   "execution_count": 8,
   "metadata": {
    "collapsed": false
   },
   "outputs": [
    {
     "data": {
      "text/plain": [
       "'le chat'"
      ]
     },
     "execution_count": 8,
     "metadata": {},
     "output_type": "execute_result"
    }
   ],
   "source": [
    "mapremierechaine = \"le\"\n",
    "madeuxiemechaine = \" chat\"\n",
    "mapremierechaine += madeuxiemechaine\n",
    "mapremierechaine"
   ]
  },
  {
   "cell_type": "markdown",
   "metadata": {},
   "source": [
    "## Les types de données \n",
    "Les structures de données disponibles dans python sont les listes, les tuples, et les dictionnaires. Les ensembles sont aussi disponibles dans la bibliothèque sets. \n",
    "\n",
    "Les dictionnaires sont comparables à des tableaux mono-dimensionnels.\n",
    "Les dictionnaires sont des tableaux associatifs, comparables aux tables de hash.\n",
    "Les tuples sont des tableaux à une dimension immutables. \n",
    "\n",
    "L'index du premier objet dans les tableaux est 0.\n",
    "\n",
    "Les index négatifs comptent par la fin du tableau, ainsi -1 est le dernier objet du tableau. \n",
    "\n",
    "Un fait notable, les variables peuvent être des pointeurs de fonction. \n",
    "\n",
    "#### Exemple"
   ]
  },
  {
   "cell_type": "code",
   "execution_count": 9,
   "metadata": {
    "collapsed": false
   },
   "outputs": [
    {
     "data": {
      "text/plain": [
       "3"
      ]
     },
     "execution_count": 9,
     "metadata": {},
     "output_type": "execute_result"
    }
   ],
   "source": [
    "sample = [1, [\"autre\", \"liste\"], (\"a\", \"tuple\")]\n",
    "maliste = [\"Item 1 de la Liste\", 2, 3.14]\n",
    "maliste[0] = \"Item 1 de la liste encore !\" # On change le premier objet de la liste\n",
    "maliste[-1] = 3.21 # Ici, on fait référence au dernier objet.\n",
    "mondict = {\"Clé 1\": \"Valeur 1\", 2: 3, \"pi\": 3.14}\n",
    "mondict[\"pi\"] = 3.15 # Voici comment nous changeons une valeur dans un dictionnaire\n",
    "montuple = (1, 2, 3)\n",
    "mafonction = len\n",
    "mafonction(maliste)"
   ]
  },
  {
   "cell_type": "markdown",
   "metadata": {},
   "source": [
    "### Sélection d'ensemble\n",
    "\n",
    "Il est possible de sélectionner des ensembles dans un tableau en utilisant le caractère \":\". \n",
    "Si l'espace avant le caractère est vide, la valeur par défaut est le premier indice du tableau. \n",
    "Respectivement, si l'espace après le caractère est vide, la valeur par défaut est le dernier indice du tableau. \n",
    "\n",
    "Il est important de noter que le premier indice indiqué est inclusif et le second exclusif. \n",
    "\n",
    "Les indices négatifs comptent depuis le dernier item en reculant. \n",
    "\n",
    "#### Exemple"
   ]
  },
  {
   "cell_type": "code",
   "execution_count": 10,
   "metadata": {
    "collapsed": false
   },
   "outputs": [
    {
     "name": "stdout",
     "output_type": "stream",
     "text": [
      "['Premier item', 2]\n"
     ]
    }
   ],
   "source": [
    "maliste = [\"Premier item\", 2, 3.14,5,1000]\n",
    "print(maliste[0:2])\n"
   ]
  },
  {
   "cell_type": "code",
   "execution_count": 11,
   "metadata": {
    "collapsed": false
   },
   "outputs": [
    {
     "name": "stdout",
     "output_type": "stream",
     "text": [
      "[3.14, 5]\n"
     ]
    }
   ],
   "source": [
    "print(maliste[-3:-1])\n"
   ]
  },
  {
   "cell_type": "code",
   "execution_count": 12,
   "metadata": {
    "collapsed": false
   },
   "outputs": [
    {
     "name": "stdout",
     "output_type": "stream",
     "text": [
      "[2, 3.14, 5, 1000]\n"
     ]
    }
   ],
   "source": [
    "print(maliste[1:])\n"
   ]
  },
  {
   "cell_type": "markdown",
   "metadata": {},
   "source": [
    "Il est possible de compter en sautant des indexes. Ainsi, le troisième paramètre \"step\", permet de changer l'indice d'incrémentation. "
   ]
  },
  {
   "cell_type": "code",
   "execution_count": 13,
   "metadata": {
    "collapsed": false
   },
   "outputs": [
    {
     "name": "stdout",
     "output_type": "stream",
     "text": [
      "['Premier item', 3.14, 1000]\n"
     ]
    }
   ],
   "source": [
    "# Cet exemple ira du premier au dernier index en comptant 2 par 2.\n",
    "print (maliste[::2])"
   ]
  },
  {
   "cell_type": "markdown",
   "metadata": {},
   "source": [
    "## Les chaînes de caractères\n",
    "\n",
    "Les chaînes de caractères peuvent s'écrire entre quotes simples ou doubles, et les deux types de quote peuvent s'inclure l'un dans l'autre. \n",
    "\n",
    "Les chaînes de caractère multi-lignes peuvent s'écrire entre triple simple/double quote. \n",
    "\n",
    "Pour remplir une chaine avec une valeur variable, on peut utiliser l'opérateur modulo et un tuple. "
   ]
  },
  {
   "cell_type": "code",
   "execution_count": 14,
   "metadata": {
    "collapsed": false
   },
   "outputs": [
    {
     "name": "stdout",
     "output_type": "stream",
     "text": [
      "Nom: Hey !Nombre: 3Chaîne: ---\n",
      "C'est\n",
      "une chaîne\n",
      "multi-ligne\n",
      "C'est un test.\n"
     ]
    }
   ],
   "source": [
    "print(\"Nom: %s\\\n",
    "Nombre: %s\\\n",
    "Chaîne: %s\" % (\"Hey !\", 3, 3 * \"-\"))\n",
    "\n",
    "strString = \"\"\"C'est\n",
    "une chaîne\n",
    "multi-ligne\"\"\"\n",
    "\n",
    "print(strString)\n",
    "\n",
    "print(\"C'%(verb)s un %(noun)s.\" % {\"noun\": \"test\", \"verb\": \"est\"})"
   ]
  },
  {
   "cell_type": "markdown",
   "metadata": {},
   "source": [
    "## Contrôle de flux \n",
    "\n",
    "En Python, les trois instructions existantes sont les suivantes :\n",
    "* if (conditions)\n",
    "* for (par exemple pour énumérer les membres d'une liste)\n",
    "* while (boucle conditionnelle)\n",
    "\n",
    "Il est à noter que l'instruction \"switch\" est inexistante...\n",
    "Il est important de noter "
   ]
  },
  {
   "cell_type": "code",
   "execution_count": null,
   "metadata": {
    "collapsed": false
   },
   "outputs": [],
   "source": [
    "rangelist = range(10)\n",
    "print (rangelist)\n",
    "for number in rangelist:\n",
    "    #Ici on regarde si le nombre est dans la liste\n",
    "    if number in (3, 4, 7, 9):\n",
    "        #break permet de sortir de la boucle en passant les énumérations\n",
    "        break\n",
    "    else:\n",
    "        #continue permet de passer à la prochaine énumération en passant le \n",
    "        #reste du code\n",
    "        continue\n",
    "else:\n",
    "    # la structure le else après un for s'éxécute si aucun \"break\" n'a été\n",
    "    #rencontré\n",
    "    pass # ne rien faire\n",
    "\n",
    "if rangelist[1] == 2:\n",
    "    print (\"Le second objet est 2\")\n",
    "elif rangelist[1] == 3:\n",
    "    print (\"le second objet est 3\")\n",
    "else:\n",
    "    print (\"Je ne sais pas!\")\n",
    "\n",
    "while rangelist[1] > 1:\n",
    "    pass"
   ]
  },
  {
   "cell_type": "markdown",
   "metadata": {},
   "source": [
    "## Les fonctions\n",
    "\n",
    "* Les fonctions sont déclarées avec le mot clé \"def\".\n",
    "* Il est possible d'ajouter des arguments optionnels en les plaçant après les autres arguments et en leur assignant une valeur avec le signe \"=\".\n",
    "* Les arguments nommés sont appelés en assignant une valeur au nom de l'argument.\n",
    "* Les fonctions peuvent retourner des tuples, et par extension, renvoyer des valeurs multiples.\n",
    "* Les fonctions lambdas sont des fonctions tout en une ligne.\n",
    "* Les paramètres sont passés par référence mais les types immuables ne peuvent pas être modifiés. Les valeurs seront simplement modifiées."
   ]
  },
  {
   "cell_type": "code",
   "execution_count": null,
   "metadata": {
    "collapsed": true
   },
   "outputs": [],
   "source": [
    "# Exemple d'une fonction lambda\n",
    "funcvar = lambda x: x + 1\n",
    "print (funcvar(1))\n",
    "\n",
    "\n",
    "# an_int et a_string sont optionels, si nous ne les remplaçons pas,\n",
    "# ils garderont la valeur par défaut\n",
    "def passing_example(a_list, an_int=2, a_string=\"Chaine défaut\"):\n",
    "    a_list.append(\"Nouvel objet\")\n",
    "    an_int = 4\n",
    "    return a_list, an_int, a_string\n",
    "\n",
    "my_list = [1, 2, 3]\n",
    "my_int = 10\n",
    "print (passing_example(my_list, my_int))\n",
    "print(my_list)\n",
    "print(my_int)"
   ]
  },
  {
   "cell_type": "markdown",
   "metadata": {},
   "source": [
    "## Les classes\n",
    "\n",
    "Python supporte l'héritage multiple, mais de façon limitée.\n",
    "Des variables et des méthodes peuvent être privées. \n",
    "Pour les démarquer il faut ajouter au moins deux tirets de soulignements  \"_\" avant et au plus un après le nom de la variable. \n",
    "Il est aussi possible de relier des noms à des instances de classe. "
   ]
  },
  {
   "cell_type": "code",
   "execution_count": null,
   "metadata": {
    "collapsed": true
   },
   "outputs": [],
   "source": [
    "# Exemple de déclaration de classe\n",
    "class MyClass(object):\n",
    "    common = 10\n",
    "    def __init__(self):\n",
    "        self.myvariable = 3\n",
    "    def myfunction(self, arg1, arg2):\n",
    "        return self.myvariable\n",
    "    \n",
    "# Exemple d'instanciation\n",
    "classinstance = MyClass()\n",
    "classinstance2 = MyClass()\n",
    "\n",
    "# On peut appeler une fonction de l'instance \n",
    "classinstance.myfunction(1, 2)\n",
    "\n",
    "#On peut aussi remarquer la variable globale à la classe \n",
    "MyClass.common = 30\n",
    "classinstance.common\n",
    "\n",
    "classinstance2.common\n",
    "\n",
    "#Si on change la valeur sur une instance, \n",
    "#alors une nouvelle valeur est attachée\n",
    "#mais seulement à cette instance\n",
    "#La variable devient locale à l'instance, et ne peut plus être changée \n",
    "#la classe. \n",
    "\n",
    "classinstance.common \n",
    "classinstance.common\n",
    "\n",
    "print(classinstance2.common)\n",
    "\n",
    "MyClass.common = 50\n",
    "\n",
    "classinstance.common\n",
    "\n",
    "classinstance2.common\n",
    "\n",
    "#Cette classe hérite de la première\n",
    "#Il est possible de multiplier les héritages en séprant les classes\n",
    "#mères par des virgules (MyClass1,MyClass2)\n",
    "class OtherClass(MyClass):\n",
    "    # The \"self\" argument is passed automatically\n",
    "    # and refers to the class instance, so you can set\n",
    "    # instance variables as above, but from inside the class.\n",
    "    def __init__(self, arg1):\n",
    "        self.myvariable = 3\n",
    "        print arg1\n",
    "        \n",
    "classinstance = OtherClass(\"hello\")\n",
    "\n",
    "#On peut aussi appeler les fonctions de la premère clase\n",
    "classinstance.myfunction(1, 2)\n",
    "\n",
    "#La classe ne dispose pas de cette variable, mais on peut l'ajouter à \n",
    "#l'instance\n",
    "\n",
    "classinstance.test = 10\n",
    "classinstance.test"
   ]
  },
  {
   "cell_type": "markdown",
   "metadata": {},
   "source": [
    "## Les exceptions\n",
    "\n",
    "Les exceptions en Python sont gérées avec un block try-except."
   ]
  },
  {
   "cell_type": "code",
   "execution_count": null,
   "metadata": {
    "collapsed": true
   },
   "outputs": [],
   "source": [
    "def some_function():\n",
    "    try:\n",
    "        # La division par 0 lève une exception\n",
    "        10 / 0\n",
    "    except ZeroDivisionError:\n",
    "        print \"Oups, invalide.\"\n",
    "    else:\n",
    "        # Ici l'exception n'a pas eu lieu\n",
    "        pass\n",
    "    finally:\n",
    "        # Cette partie est exécutée, quoi qu'il se passe. Même si une autre\n",
    "        #excepption est levée dans le except.\n",
    "        print \"On en a fini !\"\n",
    "\n",
    "some_function()\n"
   ]
  },
  {
   "cell_type": "markdown",
   "metadata": {},
   "source": [
    "## Les imports\n",
    "\n",
    "Les bibliothèques extérieures sont appelées avec import [nomdelalib]. \n",
    "Il est aussi possible de n'appeler qu'une fonction avec :\n",
    "[nomdelalib] import [nomdelafonction] .\n"
   ]
  },
  {
   "cell_type": "code",
   "execution_count": null,
   "metadata": {
    "collapsed": true
   },
   "outputs": [],
   "source": [
    "import random\n",
    "from time import clock\n",
    "\n",
    "randomint = random.randint(1, 100)\n",
    "\n",
    "print (randomint)"
   ]
  },
  {
   "cell_type": "markdown",
   "metadata": {
    "collapsed": true
   },
   "source": [
    "## Les fichiers I/O\n",
    "\n",
    "Dans les bibliothèques natives de Python, il est intéressant de se pencher sur pickle.\n",
    "\n",
    "Cette bibliothèque permet de sérializer avec les fichiers. "
   ]
  },
  {
   "cell_type": "code",
   "execution_count": null,
   "metadata": {
    "collapsed": true
   },
   "outputs": [],
   "source": [
    "import pickle\n",
    "mylist = [\"This\", \"is\", 4, 13327]\n",
    "# On ouvre le fichier C:\\\\binary.dat pour l'écriture. Le r avant le nom\n",
    "# du fichier permet d'éviter l'échappement des caractères\n",
    "myfile = open(r\"C:\\\\binary.dat\", \"w\")\n",
    "pickle.dump(mylist, myfile)\n",
    "myfile.close()\n",
    "\n",
    "myfile = open(r\"C:\\\\text.txt\", \"w\")\n",
    "myfile.write(\"This is a sample string\")\n",
    "myfile.close()\n",
    "\n",
    "myfile = open(r\"C:\\\\text.txt\")\n",
    "print (myfile.read())\n",
    "\n",
    "myfile.close()\n",
    "\n",
    "#On ouvre le lichier pour la lecture\n",
    "myfile = open(r\"C:\\\\binary.dat\")\n",
    "loadedlist = pickle.load(myfile)\n",
    "myfile.close()\n",
    "print (loadedlist)\n"
   ]
  },
  {
   "cell_type": "markdown",
   "metadata": {},
   "source": [
    "## Divers \n",
    "\n",
    "* Les conditions peuvent être enchainées par exemple : 1 < a < 3\n",
    "* On peut utiliser del pour supprimer des variables ou des objets dans un tableau \n",
    "* Les \"list comprehension\" fournissent un puissant moyen de créer et manipuler les listes. Ils consistent en une expression suivie par un for suivi par un ou plusieurs \"if\" / \"for\" "
   ]
  },
  {
   "cell_type": "code",
   "execution_count": null,
   "metadata": {
    "collapsed": true
   },
   "outputs": [],
   "source": [
    "lst1 = [1, 2, 3]\n",
    "lst2 = [3, 4, 5]\n",
    "print [x * y for x in lst1 for y in lst2]\n",
    "\n",
    "print [x for x in lst1 if 4 > x > 1]\n",
    "[2, 3]\n",
    "# Check if a condition is true for any items.\n",
    "# \"any\" returns true if any item in the list is true.\n",
    ">>> any([i % 3 for i in [3, 3, 4, 4, 3]])\n",
    "True\n",
    "# This is because 4 % 3 = 1, and 1 is true, so any()\n",
    "# returns True.\n",
    "\n",
    "# Check for how many items a condition is true.\n",
    ">>> sum(1 for i in [3, 3, 4, 4, 3] if i == 4)\n",
    "2\n",
    ">>> del lst1[0]\n",
    ">>> print lst1\n",
    "[2, 3]\n",
    ">>> del lst1"
   ]
  }
 ],
 "metadata": {
  "anaconda-cloud": {},
  "kernelspec": {
   "display_name": "Python [default]",
   "language": "python",
   "name": "python3"
  },
  "language_info": {
   "codemirror_mode": {
    "name": "ipython",
    "version": 3
   },
   "file_extension": ".py",
   "mimetype": "text/x-python",
   "name": "python",
   "nbconvert_exporter": "python",
   "pygments_lexer": "ipython3",
   "version": "3.5.2"
  }
 },
 "nbformat": 4,
 "nbformat_minor": 1
}
