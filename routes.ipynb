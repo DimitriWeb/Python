{
 "cells": [
  {
   "cell_type": "markdown",
   "metadata": {},
   "source": [
    "## Import des libraries nécessaires"
   ]
  },
  {
   "cell_type": "code",
   "execution_count": 119,
   "metadata": {
    "collapsed": true
   },
   "outputs": [],
   "source": [
    "import pandas as pd \n",
    "import numpy as np"
   ]
  },
  {
   "cell_type": "markdown",
   "metadata": {},
   "source": [
    "## Mise en mémoire des données"
   ]
  },
  {
   "cell_type": "code",
   "execution_count": 120,
   "metadata": {
    "collapsed": false
   },
   "outputs": [],
   "source": [
    "rowdatas = pd.read_csv(\"CGDRSGDRDTRoutesdernierstravaux.csv\",sep=\";\")"
   ]
  },
  {
   "cell_type": "markdown",
   "metadata": {},
   "source": [
    "On peut afficher la forme des données."
   ]
  },
  {
   "cell_type": "code",
   "execution_count": 121,
   "metadata": {
    "collapsed": false
   },
   "outputs": [
    {
     "data": {
      "text/plain": [
       "(5492, 17)"
      ]
     },
     "execution_count": 121,
     "metadata": {},
     "output_type": "execute_result"
    }
   ],
   "source": [
    "rowdatas.shape"
   ]
  },
  {
   "cell_type": "markdown",
   "metadata": {},
   "source": [
    "Pour un meilleue aperçu des données, on affiche les premières lignes du dataset."
   ]
  },
  {
   "cell_type": "code",
   "execution_count": 122,
   "metadata": {
    "collapsed": false
   },
   "outputs": [
    {
     "data": {
      "text/html": [
       "<div>\n",
       "<table border=\"1\" class=\"dataframe\">\n",
       "  <thead>\n",
       "    <tr style=\"text-align: right;\">\n",
       "      <th></th>\n",
       "      <th>entityid</th>\n",
       "      <th>route</th>\n",
       "      <th>rub</th>\n",
       "      <th>age</th>\n",
       "      <th>mois</th>\n",
       "      <th>annee</th>\n",
       "      <th>prd</th>\n",
       "      <th>abd</th>\n",
       "      <th>prf</th>\n",
       "      <th>abf</th>\n",
       "      <th>cumuld</th>\n",
       "      <th>cumulf</th>\n",
       "      <th>long</th>\n",
       "      <th>epaisseurdernierstravaux</th>\n",
       "      <th>anneedernierstravaux</th>\n",
       "      <th>naturedernierstravaux</th>\n",
       "      <th>supportdernierstravaux</th>\n",
       "    </tr>\n",
       "  </thead>\n",
       "  <tbody>\n",
       "    <tr>\n",
       "      <th>0</th>\n",
       "      <td>000efbb3-e7c1-4b9c-a54e-1e0d6d81988a</td>\n",
       "      <td>76 D0131</td>\n",
       "      <td>20</td>\n",
       "      <td>0</td>\n",
       "      <td>7</td>\n",
       "      <td>7</td>\n",
       "      <td>0</td>\n",
       "      <td>490</td>\n",
       "      <td>3</td>\n",
       "      <td>200</td>\n",
       "      <td>490</td>\n",
       "      <td>3205</td>\n",
       "      <td>2715</td>\n",
       "      <td>1,5</td>\n",
       "      <td>2012</td>\n",
       "      <td>ES-BC</td>\n",
       "      <td>COUL</td>\n",
       "    </tr>\n",
       "    <tr>\n",
       "      <th>1</th>\n",
       "      <td>0011b2a4-5a64-4223-a856-6c9e8b6b2b48</td>\n",
       "      <td>76 D0293</td>\n",
       "      <td>20</td>\n",
       "      <td>0</td>\n",
       "      <td>7</td>\n",
       "      <td>7</td>\n",
       "      <td>6</td>\n",
       "      <td>724</td>\n",
       "      <td>6</td>\n",
       "      <td>940</td>\n",
       "      <td>6737</td>\n",
       "      <td>6953</td>\n",
       "      <td>216</td>\n",
       "      <td>1</td>\n",
       "      <td>2002</td>\n",
       "      <td>COUL</td>\n",
       "      <td>ES</td>\n",
       "    </tr>\n",
       "    <tr>\n",
       "      <th>2</th>\n",
       "      <td>0011d99f-9091-4be4-a16c-354f23b24004</td>\n",
       "      <td>76 D0003</td>\n",
       "      <td>20</td>\n",
       "      <td>0</td>\n",
       "      <td>7</td>\n",
       "      <td>7</td>\n",
       "      <td>51</td>\n",
       "      <td>708</td>\n",
       "      <td>51</td>\n",
       "      <td>810</td>\n",
       "      <td>50762</td>\n",
       "      <td>50864</td>\n",
       "      <td>102</td>\n",
       "      <td>1</td>\n",
       "      <td>1991</td>\n",
       "      <td>ES</td>\n",
       "      <td>AC</td>\n",
       "    </tr>\n",
       "    <tr>\n",
       "      <th>3</th>\n",
       "      <td>00155332-804f-4547-8537-0897d7e479e1</td>\n",
       "      <td>76 D0915</td>\n",
       "      <td>20</td>\n",
       "      <td>0</td>\n",
       "      <td>11</td>\n",
       "      <td>9</td>\n",
       "      <td>61</td>\n",
       "      <td>800</td>\n",
       "      <td>62</td>\n",
       "      <td>711</td>\n",
       "      <td>61177</td>\n",
       "      <td>62116</td>\n",
       "      <td>939</td>\n",
       "      <td>2</td>\n",
       "      <td>2000</td>\n",
       "      <td>BBUM</td>\n",
       "      <td>COUL</td>\n",
       "    </tr>\n",
       "    <tr>\n",
       "      <th>4</th>\n",
       "      <td>0016e2d9-78bb-4092-b846-90452703009a</td>\n",
       "      <td>76 D0022</td>\n",
       "      <td>20</td>\n",
       "      <td>0</td>\n",
       "      <td>7</td>\n",
       "      <td>7</td>\n",
       "      <td>86</td>\n",
       "      <td>26</td>\n",
       "      <td>86</td>\n",
       "      <td>650</td>\n",
       "      <td>86141</td>\n",
       "      <td>86765</td>\n",
       "      <td>624</td>\n",
       "      <td>1</td>\n",
       "      <td>2006</td>\n",
       "      <td>COUL</td>\n",
       "      <td>BB</td>\n",
       "    </tr>\n",
       "  </tbody>\n",
       "</table>\n",
       "</div>"
      ],
      "text/plain": [
       "                               entityid     route  rub  age  mois  annee  prd  \\\n",
       "0  000efbb3-e7c1-4b9c-a54e-1e0d6d81988a  76 D0131   20    0     7      7    0   \n",
       "1  0011b2a4-5a64-4223-a856-6c9e8b6b2b48  76 D0293   20    0     7      7    6   \n",
       "2  0011d99f-9091-4be4-a16c-354f23b24004  76 D0003   20    0     7      7   51   \n",
       "3  00155332-804f-4547-8537-0897d7e479e1  76 D0915   20    0    11      9   61   \n",
       "4  0016e2d9-78bb-4092-b846-90452703009a  76 D0022   20    0     7      7   86   \n",
       "\n",
       "   abd  prf  abf  cumuld  cumulf  long epaisseurdernierstravaux  \\\n",
       "0  490    3  200     490    3205  2715                      1,5   \n",
       "1  724    6  940    6737    6953   216                        1   \n",
       "2  708   51  810   50762   50864   102                        1   \n",
       "3  800   62  711   61177   62116   939                        2   \n",
       "4   26   86  650   86141   86765   624                        1   \n",
       "\n",
       "   anneedernierstravaux naturedernierstravaux supportdernierstravaux  \n",
       "0                  2012                 ES-BC                   COUL  \n",
       "1                  2002                  COUL                     ES  \n",
       "2                  1991                    ES                     AC  \n",
       "3                  2000                  BBUM                   COUL  \n",
       "4                  2006                  COUL                     BB  "
      ]
     },
     "execution_count": 122,
     "metadata": {},
     "output_type": "execute_result"
    }
   ],
   "source": [
    "rowdatas.head()"
   ]
  },
  {
   "cell_type": "markdown",
   "metadata": {},
   "source": [
    "On affiche le type de la structure de stockage. "
   ]
  },
  {
   "cell_type": "code",
   "execution_count": 123,
   "metadata": {
    "collapsed": false
   },
   "outputs": [
    {
     "data": {
      "text/plain": [
       "pandas.core.frame.DataFrame"
      ]
     },
     "execution_count": 123,
     "metadata": {},
     "output_type": "execute_result"
    }
   ],
   "source": [
    "type(rowdatas)\n"
   ]
  },
  {
   "cell_type": "markdown",
   "metadata": {},
   "source": [
    "On affiche le type des colonnes du dataframe. "
   ]
  },
  {
   "cell_type": "code",
   "execution_count": 124,
   "metadata": {
    "collapsed": false
   },
   "outputs": [
    {
     "name": "stdout",
     "output_type": "stream",
     "text": [
      "<class 'pandas.core.frame.DataFrame'>\n",
      "RangeIndex: 5492 entries, 0 to 5491\n",
      "Data columns (total 17 columns):\n",
      "entityid                    5492 non-null object\n",
      "route                       5492 non-null object\n",
      "rub                         5492 non-null int64\n",
      "age                         5492 non-null int64\n",
      "mois                        5492 non-null int64\n",
      "annee                       5492 non-null int64\n",
      "prd                         5492 non-null int64\n",
      "abd                         5492 non-null int64\n",
      "prf                         5492 non-null int64\n",
      "abf                         5492 non-null int64\n",
      "cumuld                      5492 non-null int64\n",
      "cumulf                      5492 non-null int64\n",
      "long                        5492 non-null int64\n",
      "epaisseurdernierstravaux    5492 non-null object\n",
      "anneedernierstravaux        5492 non-null int64\n",
      "naturedernierstravaux       5492 non-null object\n",
      "supportdernierstravaux      5486 non-null object\n",
      "dtypes: int64(12), object(5)\n",
      "memory usage: 729.5+ KB\n"
     ]
    }
   ],
   "source": [
    "rowdatas.info()"
   ]
  },
  {
   "cell_type": "markdown",
   "metadata": {},
   "source": [
    "epaisseurdernierstravaux n'est pas de type réel pour le moment. \n"
   ]
  },
  {
   "cell_type": "markdown",
   "metadata": {},
   "source": [
    "# Nettoyage des données\n",
    "Une première étape de nettoyage peut consister à supprimer les lignes contenant des valeurs non définies (NA) "
   ]
  },
  {
   "cell_type": "code",
   "execution_count": 132,
   "metadata": {
    "collapsed": true
   },
   "outputs": [],
   "source": [
    "rowdatas.dropna(inplace=True)"
   ]
  },
  {
   "cell_type": "code",
   "execution_count": 133,
   "metadata": {
    "collapsed": false
   },
   "outputs": [
    {
     "data": {
      "text/plain": [
       "(5486, 17)"
      ]
     },
     "execution_count": 133,
     "metadata": {},
     "output_type": "execute_result"
    }
   ],
   "source": [
    "rowdatas.shape"
   ]
  },
  {
   "cell_type": "markdown",
   "metadata": {},
   "source": [
    "Seules une dizaine de lignes sont retirées, nous n'avons donc pas altéré l'information de façon importante."
   ]
  },
  {
   "cell_type": "markdown",
   "metadata": {},
   "source": [
    "On se propose de limiter le nombre de chiffres après la virgule afin de regrouper les valeurs trop proches. "
   ]
  },
  {
   "cell_type": "code",
   "execution_count": 134,
   "metadata": {
    "collapsed": false
   },
   "outputs": [
    {
     "data": {
      "text/plain": [
       "'%.2f'"
      ]
     },
     "execution_count": 134,
     "metadata": {},
     "output_type": "execute_result"
    }
   ],
   "source": [
    "%precision 2"
   ]
  },
  {
   "cell_type": "code",
   "execution_count": 135,
   "metadata": {
    "collapsed": false
   },
   "outputs": [
    {
     "data": {
      "text/plain": [
       "array(['1,5', '1', '2', '6', '4', '5', '3', '8', '1,2', '0', '9999,99',\n",
       "       '3,5', '10', '1,8', '0,6', '4,5', '0,5', '1,6', '2,5', '7', '7,5',\n",
       "       '5,4', '0,8', '6,5', '0,1', '5,5', '22', '12', '9', '6,1', '30'], dtype=object)"
      ]
     },
     "execution_count": 135,
     "metadata": {},
     "output_type": "execute_result"
    }
   ],
   "source": [
    "rowdatas.epaisseurdernierstravaux.unique()"
   ]
  },
  {
   "cell_type": "markdown",
   "metadata": {},
   "source": [
    "On peut voir que les valeurs sont toutes situés entre 0 et 30. Notre choix de nettoyage est donc le suivant : si une valeur est supérieure à 10 fois la moyenne de la colonne, on retire la ligne à laquelle la valeur appartient. "
   ]
  },
  {
   "cell_type": "markdown",
   "metadata": {},
   "source": [
    "On change la culture pour la compréhension des chiffres à virgule."
   ]
  },
  {
   "cell_type": "code",
   "execution_count": 136,
   "metadata": {
    "collapsed": false
   },
   "outputs": [
    {
     "data": {
      "text/plain": [
       "'French_Canada.1252'"
      ]
     },
     "execution_count": 136,
     "metadata": {},
     "output_type": "execute_result"
    }
   ],
   "source": [
    "from locale import *\n",
    "setlocale(LC_NUMERIC, 'French_Canada.1252')"
   ]
  },
  {
   "cell_type": "markdown",
   "metadata": {},
   "source": [
    "On change le type des valeurs de la colonne."
   ]
  },
  {
   "cell_type": "code",
   "execution_count": 137,
   "metadata": {
    "collapsed": false
   },
   "outputs": [],
   "source": [
    "rowdatas.epaisseurdernierstravaux = rowdatas.epaisseurdernierstravaux.apply(atof)"
   ]
  },
  {
   "cell_type": "markdown",
   "metadata": {},
   "source": [
    "Puis on nettoie les valeurs suivant notre choix. "
   ]
  },
  {
   "cell_type": "code",
   "execution_count": 138,
   "metadata": {
    "collapsed": false
   },
   "outputs": [],
   "source": [
    "meanEpaisseur = np.mean(rowdatas.epaisseurdernierstravaux)\n"
   ]
  },
  {
   "cell_type": "code",
   "execution_count": 139,
   "metadata": {
    "collapsed": true
   },
   "outputs": [],
   "source": [
    "rowdatas.drop(rowdatas[rowdatas.epaisseurdernierstravaux>meanEpaisseur*10].index,inplace=True)"
   ]
  },
  {
   "cell_type": "code",
   "execution_count": 140,
   "metadata": {
    "collapsed": false
   },
   "outputs": [
    {
     "data": {
      "text/plain": [
       "(5429, 17)"
      ]
     },
     "execution_count": 140,
     "metadata": {},
     "output_type": "execute_result"
    }
   ],
   "source": [
    "rowdatas.shape"
   ]
  },
  {
   "cell_type": "markdown",
   "metadata": {},
   "source": [
    "Les données sont maintenant nettoyées. "
   ]
  },
  {
   "cell_type": "markdown",
   "metadata": {},
   "source": [
    "## Analyse "
   ]
  },
  {
   "cell_type": "markdown",
   "metadata": {},
   "source": [
    "Les 5 natures de travaux les plus fréquentes"
   ]
  },
  {
   "cell_type": "code",
   "execution_count": 228,
   "metadata": {
    "collapsed": false
   },
   "outputs": [
    {
     "data": {
      "text/plain": [
       "[['ES-BC', 198],\n",
       " ['COUL', 993],\n",
       " ['ES', 864],\n",
       " ['BBUM', 348],\n",
       " ['BBSG', 315],\n",
       " ['BBSP', 239],\n",
       " ['BB', 1186],\n",
       " ['BBTM', 339],\n",
       " ['BBM', 179],\n",
       " ['BB-REP', 178],\n",
       " ['ES-MC', 131],\n",
       " ['ECF-BC', 140],\n",
       " ['BBMP', 26],\n",
       " ['ECF-MC', 136],\n",
       " ['COUL-S', 3],\n",
       " ['ESLGg', 29],\n",
       " ['BBELA', 7],\n",
       " ['BBME', 24],\n",
       " ['ES-SP', 2],\n",
       " ['BETOFX', 9],\n",
       " ['BBSGP', 19],\n",
       " ['BBTMP', 4],\n",
       " ['ESDGSP', 5],\n",
       " ['BBMM', 4],\n",
       " ['BBELAS', 2],\n",
       " ['BETOFL', 2],\n",
       " ['BBCOL', 2],\n",
       " ['BBSGM', 3],\n",
       " ['BB+BBM', 2],\n",
       " ['ESDG', 5],\n",
       " ['I', 1],\n",
       " ['BBTMM', 13],\n",
       " ['ESLG', 1],\n",
       " ['PAVES', 8],\n",
       " ['BB-RPR', 1],\n",
       " ['BBMF', 1],\n",
       " ['ESSP', 6],\n",
       " ['ECF', 2],\n",
       " ['BBEDC', 1],\n",
       " ['BBAUT', 1]]"
      ]
     },
     "execution_count": 228,
     "metadata": {},
     "output_type": "execute_result"
    }
   ],
   "source": [
    "couplesNatureOccurence=[]\n",
    "for nature in rowdatas.naturedernierstravaux.unique():\n",
    "    couplesNatureOccurence.append([nature,sum([1 for i in rowdatas.naturedernierstravaux if i==nature])])\n",
    "    \n",
    "couplesNatureOccurence "
   ]
  },
  {
   "cell_type": "code",
   "execution_count": 229,
   "metadata": {
    "collapsed": false
   },
   "outputs": [],
   "source": [
    "import operator\n",
    "from operator import itemgetter\n",
    "couplesNatureOccurence.sort(key=operator.itemgetter(1),reverse=True)"
   ]
  },
  {
   "cell_type": "code",
   "execution_count": 231,
   "metadata": {
    "collapsed": false
   },
   "outputs": [
    {
     "name": "stdout",
     "output_type": "stream",
     "text": [
      "Les 5 natures les plus communes sont : \n",
      "BB  avec  1186  fois.\n",
      "COUL  avec  993  fois.\n",
      "ES  avec  864  fois.\n",
      "BBUM  avec  348  fois.\n",
      "BBTM  avec  339  fois.\n"
     ]
    }
   ],
   "source": [
    "print(\"Les 5 natures les plus communes sont : \")\n",
    "cinqPlusCommuns = couplesNatureOccurence[0:5]\n",
    "for i in cinqPlusCommuns:\n",
    "    print(i[0],\" avec \", i[1],\" fois.\")"
   ]
  },
  {
   "cell_type": "code",
   "execution_count": 241,
   "metadata": {
    "collapsed": false
   },
   "outputs": [],
   "source": [
    "labels = [i[0] for i in cinqPlusCommuns]\n",
    "values = [i[1] for i in cinqPlusCommuns]"
   ]
  },
  {
   "cell_type": "code",
   "execution_count": 242,
   "metadata": {
    "collapsed": false
   },
   "outputs": [
    {
     "data": {
      "image/png": "[encoded data removed]",
      "text/plain": [
       "<matplotlib.figure.Figure at 0x1f21398d198>"
      ]
     },
     "metadata": {},
     "output_type": "display_data"
    }
   ],
   "source": [
    "import matplotlib.pyplot as plt\n",
    "plt.pie(values,labels=labels, \n",
    "        autopct='%1.1f%%', shadow=True, startangle=90)\n",
    "plt.title(\"Occurence des 5 natures de travaux les plus communes\")\n",
    "plt.show()"
   ]
  },
  {
   "cell_type": "markdown",
   "metadata": {},
   "source": [
    "Nombre de travaux par an"
   ]
  },
  {
   "cell_type": "code",
   "execution_count": 189,
   "metadata": {
    "collapsed": false
   },
   "outputs": [
    {
     "data": {
      "text/plain": [
       "anneedernierstravaux\n",
       "1900      4\n",
       "1945      2\n",
       "1950      1\n",
       "1952      2\n",
       "1974      1\n",
       "1975      3\n",
       "1977      1\n",
       "1980      1\n",
       "1981     10\n",
       "1982      2\n",
       "1983      9\n",
       "1984      7\n",
       "1985      7\n",
       "1986     13\n",
       "1987     16\n",
       "1988      5\n",
       "1989     30\n",
       "1990     47\n",
       "1991     33\n",
       "1992     29\n",
       "1993     47\n",
       "1994     72\n",
       "1995     74\n",
       "1996    102\n",
       "1997    157\n",
       "1998    239\n",
       "1999    270\n",
       "2000    316\n",
       "2001    377\n",
       "2002    422\n",
       "2003    268\n",
       "2004    259\n",
       "2005    407\n",
       "2006    474\n",
       "2007    418\n",
       "2008    260\n",
       "2009    192\n",
       "2010     85\n",
       "2011    199\n",
       "2012    212\n",
       "2013    142\n",
       "2014    214\n",
       "Name: entityid, dtype: int64"
      ]
     },
     "execution_count": 189,
     "metadata": {},
     "output_type": "execute_result"
    }
   ],
   "source": [
    "numberOfActionsByYear=rowdatas.groupby([\"anneedernierstravaux\"])['entityid'].count()\n",
    "numberOfActionsByYear"
   ]
  },
  {
   "cell_type": "code",
   "execution_count": 191,
   "metadata": {
    "collapsed": false
   },
   "outputs": [
    {
     "data": {
      "text/plain": [
       "anneedernierstravaux\n",
       "1900     6.000000\n",
       "1945    10.000000\n",
       "1950     0.000000\n",
       "1952    10.000000\n",
       "1974     6.000000\n",
       "1975     5.333333\n",
       "1977     4.000000\n",
       "1980     0.000000\n",
       "1981     5.200000\n",
       "1982     6.000000\n",
       "1983     4.444444\n",
       "1984     6.000000\n",
       "1985     4.285714\n",
       "1986     3.353846\n",
       "1987     3.625000\n",
       "1988     5.400000\n",
       "1989     3.700000\n",
       "1990     3.170213\n",
       "1991     3.090909\n",
       "1992     3.793103\n",
       "1993     3.078723\n",
       "1994     3.194444\n",
       "1995     3.114865\n",
       "1996     3.142157\n",
       "1997     2.552229\n",
       "1998     3.362343\n",
       "1999     2.757778\n",
       "2000     2.613924\n",
       "2001     2.711141\n",
       "2002     2.773697\n",
       "2003     2.139925\n",
       "2004     2.806178\n",
       "2005     2.707371\n",
       "2006     2.541139\n",
       "2007     2.546172\n",
       "2008     2.552308\n",
       "2009     2.663021\n",
       "2010     3.028235\n",
       "2011     2.390955\n",
       "2012     2.373113\n",
       "2013     2.601408\n",
       "2014     2.520093\n",
       "Name: epaisseurdernierstravaux, dtype: float64"
      ]
     },
     "execution_count": 191,
     "metadata": {},
     "output_type": "execute_result"
    }
   ],
   "source": [
    "meanThicknessByYear=rowdatas.groupby([\"anneedernierstravaux\"])['epaisseurdernierstravaux'].mean()\n",
    "meanThicknessByYear"
   ]
  },
  {
   "cell_type": "code",
   "execution_count": 209,
   "metadata": {
    "collapsed": false
   },
   "outputs": [],
   "source": [
    "finalFrame = pd.DataFrame([numberOfActionsByYear,meanThicknessByYear]).transpose()"
   ]
  },
  {
   "cell_type": "markdown",
   "metadata": {},
   "source": [
    "Epaisseur moyenne de travail et nombre de travaux par an par ordre d'épaisseur décroissante"
   ]
  },
  {
   "cell_type": "code",
   "execution_count": 216,
   "metadata": {
    "collapsed": false
   },
   "outputs": [
    {
     "data": {
      "text/html": [
       "<div>\n",
       "<table border=\"1\" class=\"dataframe\">\n",
       "  <thead>\n",
       "    <tr style=\"text-align: right;\">\n",
       "      <th></th>\n",
       "      <th>Nombre de travaux</th>\n",
       "      <th>Epaisseur moyenne du travaux</th>\n",
       "    </tr>\n",
       "    <tr>\n",
       "      <th>anneedernierstravaux</th>\n",
       "      <th></th>\n",
       "      <th></th>\n",
       "    </tr>\n",
       "  </thead>\n",
       "  <tbody>\n",
       "    <tr>\n",
       "      <th>1952</th>\n",
       "      <td>2.0</td>\n",
       "      <td>10.000000</td>\n",
       "    </tr>\n",
       "    <tr>\n",
       "      <th>1945</th>\n",
       "      <td>2.0</td>\n",
       "      <td>10.000000</td>\n",
       "    </tr>\n",
       "    <tr>\n",
       "      <th>1900</th>\n",
       "      <td>4.0</td>\n",
       "      <td>6.000000</td>\n",
       "    </tr>\n",
       "    <tr>\n",
       "      <th>1982</th>\n",
       "      <td>2.0</td>\n",
       "      <td>6.000000</td>\n",
       "    </tr>\n",
       "    <tr>\n",
       "      <th>1974</th>\n",
       "      <td>1.0</td>\n",
       "      <td>6.000000</td>\n",
       "    </tr>\n",
       "    <tr>\n",
       "      <th>1984</th>\n",
       "      <td>7.0</td>\n",
       "      <td>6.000000</td>\n",
       "    </tr>\n",
       "    <tr>\n",
       "      <th>1988</th>\n",
       "      <td>5.0</td>\n",
       "      <td>5.400000</td>\n",
       "    </tr>\n",
       "    <tr>\n",
       "      <th>1975</th>\n",
       "      <td>3.0</td>\n",
       "      <td>5.333333</td>\n",
       "    </tr>\n",
       "    <tr>\n",
       "      <th>1981</th>\n",
       "      <td>10.0</td>\n",
       "      <td>5.200000</td>\n",
       "    </tr>\n",
       "    <tr>\n",
       "      <th>1983</th>\n",
       "      <td>9.0</td>\n",
       "      <td>4.444444</td>\n",
       "    </tr>\n",
       "    <tr>\n",
       "      <th>1985</th>\n",
       "      <td>7.0</td>\n",
       "      <td>4.285714</td>\n",
       "    </tr>\n",
       "    <tr>\n",
       "      <th>1977</th>\n",
       "      <td>1.0</td>\n",
       "      <td>4.000000</td>\n",
       "    </tr>\n",
       "    <tr>\n",
       "      <th>1992</th>\n",
       "      <td>29.0</td>\n",
       "      <td>3.793103</td>\n",
       "    </tr>\n",
       "    <tr>\n",
       "      <th>1989</th>\n",
       "      <td>30.0</td>\n",
       "      <td>3.700000</td>\n",
       "    </tr>\n",
       "    <tr>\n",
       "      <th>1987</th>\n",
       "      <td>16.0</td>\n",
       "      <td>3.625000</td>\n",
       "    </tr>\n",
       "    <tr>\n",
       "      <th>1998</th>\n",
       "      <td>239.0</td>\n",
       "      <td>3.362343</td>\n",
       "    </tr>\n",
       "    <tr>\n",
       "      <th>1986</th>\n",
       "      <td>13.0</td>\n",
       "      <td>3.353846</td>\n",
       "    </tr>\n",
       "    <tr>\n",
       "      <th>1994</th>\n",
       "      <td>72.0</td>\n",
       "      <td>3.194444</td>\n",
       "    </tr>\n",
       "    <tr>\n",
       "      <th>1990</th>\n",
       "      <td>47.0</td>\n",
       "      <td>3.170213</td>\n",
       "    </tr>\n",
       "    <tr>\n",
       "      <th>1996</th>\n",
       "      <td>102.0</td>\n",
       "      <td>3.142157</td>\n",
       "    </tr>\n",
       "    <tr>\n",
       "      <th>1995</th>\n",
       "      <td>74.0</td>\n",
       "      <td>3.114865</td>\n",
       "    </tr>\n",
       "    <tr>\n",
       "      <th>1991</th>\n",
       "      <td>33.0</td>\n",
       "      <td>3.090909</td>\n",
       "    </tr>\n",
       "    <tr>\n",
       "      <th>1993</th>\n",
       "      <td>47.0</td>\n",
       "      <td>3.078723</td>\n",
       "    </tr>\n",
       "    <tr>\n",
       "      <th>2010</th>\n",
       "      <td>85.0</td>\n",
       "      <td>3.028235</td>\n",
       "    </tr>\n",
       "    <tr>\n",
       "      <th>2004</th>\n",
       "      <td>259.0</td>\n",
       "      <td>2.806178</td>\n",
       "    </tr>\n",
       "    <tr>\n",
       "      <th>2002</th>\n",
       "      <td>422.0</td>\n",
       "      <td>2.773697</td>\n",
       "    </tr>\n",
       "    <tr>\n",
       "      <th>1999</th>\n",
       "      <td>270.0</td>\n",
       "      <td>2.757778</td>\n",
       "    </tr>\n",
       "    <tr>\n",
       "      <th>2001</th>\n",
       "      <td>377.0</td>\n",
       "      <td>2.711141</td>\n",
       "    </tr>\n",
       "    <tr>\n",
       "      <th>2005</th>\n",
       "      <td>407.0</td>\n",
       "      <td>2.707371</td>\n",
       "    </tr>\n",
       "    <tr>\n",
       "      <th>2009</th>\n",
       "      <td>192.0</td>\n",
       "      <td>2.663021</td>\n",
       "    </tr>\n",
       "    <tr>\n",
       "      <th>2000</th>\n",
       "      <td>316.0</td>\n",
       "      <td>2.613924</td>\n",
       "    </tr>\n",
       "    <tr>\n",
       "      <th>2013</th>\n",
       "      <td>142.0</td>\n",
       "      <td>2.601408</td>\n",
       "    </tr>\n",
       "    <tr>\n",
       "      <th>2008</th>\n",
       "      <td>260.0</td>\n",
       "      <td>2.552308</td>\n",
       "    </tr>\n",
       "    <tr>\n",
       "      <th>1997</th>\n",
       "      <td>157.0</td>\n",
       "      <td>2.552229</td>\n",
       "    </tr>\n",
       "    <tr>\n",
       "      <th>2007</th>\n",
       "      <td>418.0</td>\n",
       "      <td>2.546172</td>\n",
       "    </tr>\n",
       "    <tr>\n",
       "      <th>2006</th>\n",
       "      <td>474.0</td>\n",
       "      <td>2.541139</td>\n",
       "    </tr>\n",
       "    <tr>\n",
       "      <th>2014</th>\n",
       "      <td>214.0</td>\n",
       "      <td>2.520093</td>\n",
       "    </tr>\n",
       "    <tr>\n",
       "      <th>2011</th>\n",
       "      <td>199.0</td>\n",
       "      <td>2.390955</td>\n",
       "    </tr>\n",
       "    <tr>\n",
       "      <th>2012</th>\n",
       "      <td>212.0</td>\n",
       "      <td>2.373113</td>\n",
       "    </tr>\n",
       "    <tr>\n",
       "      <th>2003</th>\n",
       "      <td>268.0</td>\n",
       "      <td>2.139925</td>\n",
       "    </tr>\n",
       "    <tr>\n",
       "      <th>1950</th>\n",
       "      <td>1.0</td>\n",
       "      <td>0.000000</td>\n",
       "    </tr>\n",
       "    <tr>\n",
       "      <th>1980</th>\n",
       "      <td>1.0</td>\n",
       "      <td>0.000000</td>\n",
       "    </tr>\n",
       "  </tbody>\n",
       "</table>\n",
       "</div>"
      ],
      "text/plain": [
       "                      Nombre de travaux  Epaisseur moyenne du travaux\n",
       "anneedernierstravaux                                                 \n",
       "1952                                2.0                     10.000000\n",
       "1945                                2.0                     10.000000\n",
       "1900                                4.0                      6.000000\n",
       "1982                                2.0                      6.000000\n",
       "1974                                1.0                      6.000000\n",
       "1984                                7.0                      6.000000\n",
       "1988                                5.0                      5.400000\n",
       "1975                                3.0                      5.333333\n",
       "1981                               10.0                      5.200000\n",
       "1983                                9.0                      4.444444\n",
       "1985                                7.0                      4.285714\n",
       "1977                                1.0                      4.000000\n",
       "1992                               29.0                      3.793103\n",
       "1989                               30.0                      3.700000\n",
       "1987                               16.0                      3.625000\n",
       "1998                              239.0                      3.362343\n",
       "1986                               13.0                      3.353846\n",
       "1994                               72.0                      3.194444\n",
       "1990                               47.0                      3.170213\n",
       "1996                              102.0                      3.142157\n",
       "1995                               74.0                      3.114865\n",
       "1991                               33.0                      3.090909\n",
       "1993                               47.0                      3.078723\n",
       "2010                               85.0                      3.028235\n",
       "2004                              259.0                      2.806178\n",
       "2002                              422.0                      2.773697\n",
       "1999                              270.0                      2.757778\n",
       "2001                              377.0                      2.711141\n",
       "2005                              407.0                      2.707371\n",
       "2009                              192.0                      2.663021\n",
       "2000                              316.0                      2.613924\n",
       "2013                              142.0                      2.601408\n",
       "2008                              260.0                      2.552308\n",
       "1997                              157.0                      2.552229\n",
       "2007                              418.0                      2.546172\n",
       "2006                              474.0                      2.541139\n",
       "2014                              214.0                      2.520093\n",
       "2011                              199.0                      2.390955\n",
       "2012                              212.0                      2.373113\n",
       "2003                              268.0                      2.139925\n",
       "1950                                1.0                      0.000000\n",
       "1980                                1.0                      0.000000"
      ]
     },
     "execution_count": 216,
     "metadata": {},
     "output_type": "execute_result"
    }
   ],
   "source": [
    "finalFrame.columns = (\"Nombre de travaux\",\"Epaisseur moyenne du travaux\")\n",
    "finalFrame.sort_values(by=['Epaisseur moyenne du travaux'],ascending=False)"
   ]
  },
  {
   "cell_type": "code",
   "execution_count": 245,
   "metadata": {
    "collapsed": false
   },
   "outputs": [
    {
     "data": {
      "image/png": "[encoded data removed]",
      "text/plain": [
       "<matplotlib.figure.Figure at 0x1f2150e1eb8>"
      ]
     },
     "metadata": {},
     "output_type": "display_data"
    }
   ],
   "source": [
    "y_pos = np.arange(len(finalFrame['Epaisseur moyenne du travaux']))\n",
    "\n",
    "plt.barh(y_pos, finalFrame['Epaisseur moyenne du travaux'])\n",
    "plt.yticks(y_pos, finalFrame.index)\n",
    "plt.xlabel('Année')\n",
    "plt.ylabel('Epaisseur moyenne')\n",
    "plt.title(\"Epaisseur moyenne du travaux en fonction de l'année\")\n",
    "\n",
    "plt.show()"
   ]
  },
  {
   "cell_type": "code",
   "execution_count": 246,
   "metadata": {
    "collapsed": false
   },
   "outputs": [
    {
     "data": {
      "image/png": "[encoded data removed]",
      "text/plain": [
       "<matplotlib.figure.Figure at 0x1f215800208>"
      ]
     },
     "metadata": {},
     "output_type": "display_data"
    }
   ],
   "source": [
    "plt.barh(y_pos, finalFrame['Nombre de travaux'])\n",
    "plt.yticks(y_pos, finalFrame.index)\n",
    "plt.xlabel('Année')\n",
    "plt.ylim((pd.to_numeric(finalFrame.index).min(),pd.to_numeric(finalFrame.index).max()))\n",
    "plt.ylabel('Nombre de travaux')\n",
    "plt.title(\"Nombre de travaux en fonction de l'année\")\n",
    "\n",
    "plt.show()"
   ]
  },
  {
   "cell_type": "code",
   "execution_count": null,
   "metadata": {
    "collapsed": true
   },
   "outputs": [],
   "source": []
  }
 ],
 "metadata": {
  "anaconda-cloud": {},
  "kernelspec": {
   "display_name": "Python [conda root]",
   "language": "python",
   "name": "conda-root-py"
  },
  "language_info": {
   "codemirror_mode": {
    "name": "ipython",
    "version": 3
   },
   "file_extension": ".py",
   "mimetype": "text/x-python",
   "name": "python",
   "nbconvert_exporter": "python",
   "pygments_lexer": "ipython3",
   "version": "3.5.2"
  }
 },
 "nbformat": 4,
 "nbformat_minor": 1
}
